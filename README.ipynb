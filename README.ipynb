{
 "cells": [
  {
   "cell_type": "markdown",
   "id": "b82d9758-06fe-4dae-bb94-86dafcfe9fb6",
   "metadata": {},
   "source": [
    "# Documentation\n",
    "\n",
    "## Setup\n",
    "This project uses python3-venv to run the project. Please activate the environment before starting the project.\n",
    "\n",
    "activate environment => `source ~/notebook/bin/activate`\n",
    "\n",
    "go to the project => `cd ~/projects/100k`\n",
    "\n",
    "start jupyter: `jupyter notebook`"
   ]
  },
  {
   "cell_type": "code",
   "execution_count": null,
   "id": "156d759c-c492-4fa6-b908-21194bbc732e",
   "metadata": {},
   "outputs": [],
   "source": []
  }
 ],
 "metadata": {
  "kernelspec": {
   "display_name": "Python 3 (ipykernel)",
   "language": "python",
   "name": "python3"
  },
  "language_info": {
   "codemirror_mode": {
    "name": "ipython",
    "version": 3
   },
   "file_extension": ".py",
   "mimetype": "text/x-python",
   "name": "python",
   "nbconvert_exporter": "python",
   "pygments_lexer": "ipython3",
   "version": "3.10.12"
  }
 },
 "nbformat": 4,
 "nbformat_minor": 5
}
