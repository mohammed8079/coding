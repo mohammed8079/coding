{
 "cells": [
  {
   "cell_type": "markdown",
   "id": "e0c6ff3e-ee40-482f-9259-daf004a1a246",
   "metadata": {},
   "source": [
    "# Prefix Pattern"
   ]
  },
  {
   "cell_type": "markdown",
   "id": "ee5b60cd-8541-4335-b324-e045c7c296e7",
   "metadata": {},
   "source": [
    "It is not always possible to get the whole array in the memory and do the calculations. It is often the case, that we have access to a subset of the array. \n",
    "\n",
    "It will be very useful if we can do some calculations only based on the available subset and some variables. Lets, if we have the sample size(n) and total sum(t) of n elements, then we can calculate the following values\n",
    "1. new total\n",
    "2. new average\n",
    "3. new standard deviation etc."
   ]
  },
  {
   "cell_type": "raw",
   "id": "2c3ce967-5bef-44ad-a5a5-550c478ef3cb",
   "metadata": {},
   "source": [
    "Sometimes it is also useful to remember these calculations."
   ]
  }
 ],
 "metadata": {
  "kernelspec": {
   "display_name": "Typescript 4.9",
   "language": "typescript",
   "name": "typescript"
  },
  "language_info": {
   "file_extension": ".ts",
   "mimetype": "application/x-typescript",
   "name": "typescript",
   "version": "4.9.5"
  }
 },
 "nbformat": 4,
 "nbformat_minor": 5
}
