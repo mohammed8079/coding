{
 "cells": [
  {
   "cell_type": "markdown",
   "id": "18502916-8462-436c-ad49-8ae2f48dd9c2",
   "metadata": {},
   "source": [
    "# Print all subsets of a given Set or Array"
   ]
  },
  {
   "cell_type": "code",
   "execution_count": 6,
   "id": "6b4bf1eb-7ee4-4513-8336-82623ad8242f",
   "metadata": {},
   "outputs": [
    {
     "name": "stdout",
     "output_type": "stream",
     "text": [
      "[]\n",
      "[ 3 ]\n",
      "[ 2 ]\n",
      "[ 2, 3 ]\n",
      "[ 1 ]\n",
      "[ 1, 3 ]\n",
      "[ 1, 2 ]\n",
      "[ 1, 2, 3 ]\n"
     ]
    },
    {
     "data": {
      "text/plain": [
       "undefined"
      ]
     },
     "execution_count": 6,
     "metadata": {},
     "output_type": "execute_result"
    }
   ],
   "source": [
    "const arr: number[] = [1, 2, 3]\n",
    "\n",
    "const printPermuations = (arr: number[], index: number, permutations: number[]): void => {\n",
    "    if(index === 3){\n",
    "        console.log(permutations)\n",
    "        return\n",
    "    }\n",
    "\n",
    "    printPermuations(arr, index + 1, permutations)\n",
    "\n",
    "    const result = [...permutations, arr[index]]\n",
    "    printPermuations(arr, index + 1, result)\n",
    "}\n",
    "\n",
    "printPermuations(arr, 0, [])"
   ]
  },
  {
   "cell_type": "markdown",
   "id": "fb5e0e4c-dd5b-4592-86c8-2817722b55c9",
   "metadata": {},
   "source": [
    "# Check if a given string is sum-string"
   ]
  },
  {
   "cell_type": "code",
   "execution_count": null,
   "id": "55f6ffef-c973-41af-8c70-e26987e1faf0",
   "metadata": {},
   "outputs": [],
   "source": []
  }
 ],
 "metadata": {
  "kernelspec": {
   "display_name": "Typescript 4.9",
   "language": "typescript",
   "name": "typescript"
  },
  "language_info": {
   "file_extension": ".ts",
   "mimetype": "application/x-typescript",
   "name": "typescript",
   "version": "4.9.5"
  }
 },
 "nbformat": 4,
 "nbformat_minor": 5
}
