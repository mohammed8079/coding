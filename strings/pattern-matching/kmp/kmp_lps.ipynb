{
 "cells": [
  {
   "cell_type": "markdown",
   "id": "766769ad-9c0e-41c3-9b22-ba1a79e944b0",
   "metadata": {},
   "source": [
    "# Purpose\n",
    "\n",
    "Consider the following:\n",
    "\n",
    "text = \"aabaacaadaabaaba\"; length of text(n) = 16;\n",
    "\n",
    "pattern = \"aaba\"; length of pattern(m) = 4; lps = [0, 1, 0, 1]\n",
    "\n",
    "Total no of possible matches = n - m + 1 = 16 - 4 + 1 = 13 matches. E.g aaba, abaa, baac etc.\n",
    "\n",
    "In naive approach, we check every possible match with pattern(worst case: 13*4 = 52 comparisons). Sometimes, we don't need to do that. we can avoid the comparisons by using finite automaton with failues links."
   ]
  },
  {
   "cell_type": "markdown",
   "id": "20d5123f-707b-47e6-8876-fed626cae943",
   "metadata": {},
   "source": [
    "lets calculate the longest length of the substrins, which are proper prefix and suffix."
   ]
  },
  {
   "cell_type": "markdown",
   "id": "bf760e17-794f-4abc-a18d-5b7e66868924",
   "metadata": {},
   "source": [
    "let pat = 'aacaaaac'"
   ]
  },
  {
   "cell_type": "markdown",
   "id": "d5e48547-14f4-4f36-9651-96b0bbc87de4",
   "metadata": {},
   "source": [
    "## lps for strings of length 1\n",
    "\n",
    "string = aacaaaac\n",
    "\n",
    "substring = a\n",
    "\n",
    "proper prefix substrings: nothing\n",
    "\n",
    "proper suffix substrings: nothing\n",
    "\n",
    "longest substring which is both prefix and suffux: nothing\n",
    "\n",
    "length of the longest substring =  0"
   ]
  },
  {
   "cell_type": "markdown",
   "id": "0241b97f-6ea9-4855-b0d5-d2ceec100e32",
   "metadata": {},
   "source": [
    "## lps for strings of length 2\n",
    "\n",
    "string = aacaaaac\n",
    "\n",
    "substring = aa\n",
    "\n",
    "proper prefix substrings: [a] (index = 0)\n",
    "\n",
    "proper suffix substrings: [a] (index = 1)\n",
    "\n",
    "substrings which are both proper prefix and proper suffix: [a]\n",
    "\n",
    "length of the longest substring =  1"
   ]
  },
  {
   "cell_type": "markdown",
   "id": "49aa5cd9-8788-47c5-bbc0-682e4f50045f",
   "metadata": {},
   "source": [
    "## lps for strings of length 3\n",
    "\n",
    "string = aacaaaac\n",
    "\n",
    "substring = aac\n",
    "\n",
    "proper prefix substrings: [a, aa]\n",
    "\n",
    "proper suffix substrings: [c, ac]\n",
    "\n",
    "substrings which are both proper prefix and proper suffix: nothing\n",
    "\n",
    "length of the longest substring =  0"
   ]
  },
  {
   "cell_type": "markdown",
   "id": "35e264fd-0917-4bf5-9961-51f0755e342c",
   "metadata": {},
   "source": [
    "## lps for strings of length 4\n",
    "\n",
    "string = aacaaaac\n",
    "\n",
    "substring = aaca\n",
    "\n",
    "proper prefix substrings: [a, aa, aac]\n",
    "\n",
    "proper suffix substrings: [a, ca, aca]\n",
    "\n",
    "substrings which are both proper prefix and proper suffix: [a]\n",
    "\n",
    "length of the longest substring =  1"
   ]
  },
  {
   "cell_type": "markdown",
   "id": "5e4c2faa-a5b8-4e53-adeb-4eacbda52db3",
   "metadata": {},
   "source": [
    "## lps for strings of length 5\n",
    "\n",
    "string = aacaaaac\n",
    "\n",
    "substring = aacaa\n",
    "\n",
    "proper prefix substrings: [a, aa, aac, aaca]\n",
    "\n",
    "proper suffix substrings: [a, aa, caa, acaa]\n",
    "\n",
    "substrings which are both proper prefix and proper suffix: [a, aa]\n",
    "\n",
    "length of the longest substring =  2"
   ]
  },
  {
   "cell_type": "markdown",
   "id": "1e135d74-d0f2-4515-85f8-5d4aa8d4c6fe",
   "metadata": {},
   "source": [
    "## lps for strings of length 6\n",
    "\n",
    "string = aacaaaac\n",
    "\n",
    "substring = aacaaa\n",
    "\n",
    "proper prefix substrings: [a, aa, aac, aaca, aacaa]\n",
    "\n",
    "proper suffix substrings: [a, aa, aaa, caaa, acaaa]\n",
    "\n",
    "substrings which are both proper prefix and proper suffix: [a, aa]\n",
    "\n",
    "length of the longest substring =  2"
   ]
  },
  {
   "cell_type": "markdown",
   "id": "d1f85086-ecb2-4198-90f8-6fb6e243afb9",
   "metadata": {},
   "source": [
    "## lps for strings of length 7\n",
    "\n",
    "string = aacaaaac\n",
    "\n",
    "substring = aacaaaa\n",
    "\n",
    "proper prefix substrings: [a, aa, aac, aaca, aacaa, aacaaa]\n",
    "\n",
    "proper suffix substrings: [a, aa, aaa, aaaa, caaaa, acaaaa]\n",
    "\n",
    "substrings which are both proper prefix and proper suffix: [a, aa]\n",
    "\n",
    "length of the longest substring =  2"
   ]
  },
  {
   "cell_type": "markdown",
   "id": "7a70eb70-3331-4e92-93fb-6696d6984dd1",
   "metadata": {},
   "source": [
    "## lps for strings of length 8\n",
    "\n",
    "string = aacaaaac\n",
    "\n",
    "substring = aacaaaac\n",
    "\n",
    "proper prefix substrings: [a, aa, aac, aaca, aacaa, aacaaa, aacaaaa]\n",
    "\n",
    "proper suffix substrings: [c, ac, aac, aaac, aaaac, caaaac, acaaaac]\n",
    "\n",
    "substrings which are both proper prefix and proper suffix: [aac]\n",
    "\n",
    "length of the longest substring =  3"
   ]
  },
  {
   "cell_type": "markdown",
   "id": "e4781e82-c026-4a4b-ac25-9105cc451712",
   "metadata": {},
   "source": [
    "## Automaton\n",
    "\n",
    "lps stores failures links. Each element in the array stores the failure link for the respective element.\n",
    "\n",
    "![title](kmp_automaton.png)"
   ]
  },
  {
   "cell_type": "code",
   "execution_count": 1,
   "id": "8dfdbdb6-1514-4370-9ef6-5fe9910d5995",
   "metadata": {},
   "outputs": [],
   "source": [
    "function getLpsArr(pat) {\n",
    "\n",
    "    const lenOfPat = pat.length\n",
    "    const lps = new Array(lenOfPat)\n",
    "    \n",
    "    // len stores the length of longest prefix which \n",
    "    // is also a suffix for the previous index\n",
    "    let len = 0;\n",
    "\n",
    "    // lps[0] is always 0\n",
    "    lps[0] = 0;\n",
    "\n",
    "    let i = 1;\n",
    "    while (i < lenOfPat) {\n",
    "        \n",
    "        // If characters match, increment the size of lps\n",
    "        if (pat[i] === pat[len]) {\n",
    "            len++;\n",
    "            lps[i] = len;\n",
    "            i++;\n",
    "        }\n",
    "        \n",
    "        // If there is a mismatch\n",
    "        else {\n",
    "            if (len !== 0) {\n",
    "                \n",
    "                // Update len to the previous lps value \n",
    "                // to avoid redundant comparisons\n",
    "                len = lps[len - 1];\n",
    "            } else {\n",
    "                \n",
    "                // If no matching prefix found, set lps[i] to 0\n",
    "                lps[i] = 0;\n",
    "                i++;\n",
    "            }\n",
    "        }\n",
    "    }\n",
    "    \n",
    "    console.log(lps.reduce((acc, char) => acc + ' ' + char, ''))\n",
    "}"
   ]
  },
  {
   "cell_type": "code",
   "execution_count": 2,
   "id": "92a410d3-d8b1-4318-871d-ac1fa7cc3e1c",
   "metadata": {},
   "outputs": [
    {
     "name": "stdout",
     "output_type": "stream",
     "text": [
      " 0 1 0 1 2 2 2 3\n"
     ]
    }
   ],
   "source": [
    "let pattern = \"aacaaaac\";\n",
    "getLpsArr(pattern)"
   ]
  },
  {
   "cell_type": "code",
   "execution_count": 3,
   "id": "c8dbc34d-732b-4e0c-8d7e-25e77ee46066",
   "metadata": {
    "scrolled": true
   },
   "outputs": [
    {
     "name": "stdout",
     "output_type": "stream",
     "text": [
      " 0 0 1 1 2 3 4 1 2 3 4 1 1 2\n"
     ]
    }
   ],
   "source": [
    "pattern = \"abaabaaabaaaab\"\n",
    "getLpsArr(pattern)"
   ]
  },
  {
   "cell_type": "code",
   "execution_count": 6,
   "id": "dd681c26-64cb-405d-b92d-718d0c7cf592",
   "metadata": {},
   "outputs": [
    {
     "name": "stdout",
     "output_type": "stream",
     "text": [
      " 0 1 0 1\n"
     ]
    }
   ],
   "source": [
    "pattern = \"aaba\"\n",
    "getLpsArr(pattern)"
   ]
  },
  {
   "cell_type": "code",
   "execution_count": null,
   "id": "c90193b8-c1b8-42d1-8c57-1945501ef3e3",
   "metadata": {},
   "outputs": [],
   "source": []
  }
 ],
 "metadata": {
  "kernelspec": {
   "display_name": "JavaScript (Node.js)",
   "language": "javascript",
   "name": "javascript"
  },
  "language_info": {
   "file_extension": ".js",
   "mimetype": "application/javascript",
   "name": "javascript",
   "version": "20.10.0"
  }
 },
 "nbformat": 4,
 "nbformat_minor": 5
}
